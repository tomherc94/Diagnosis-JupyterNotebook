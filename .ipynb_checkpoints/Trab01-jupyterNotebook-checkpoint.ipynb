{
 "cells": [
  {
   "cell_type": "markdown",
   "metadata": {},
   "source": [
    "<h2>Árvore Decisão para Dignóstico de Inflamação Aguda do Sistema Urinário<h2>"
   ]
  },
  {
   "cell_type": "markdown",
   "metadata": {},
   "source": [
    "<h3>Informações do conjunto de dados:<h3>\n",
    "\n",
    "<p align='justify'>A ideia principal deste conjunto de dados é preparar o algoritmo do sistema especialista, que\n",
    "irá realizar o diagnóstico presuntivo de duas doenças do sistema urinário. Será\n",
    "o exemplo do diagnóstico das inflamações agudas da bexiga urinária e agudas\n",
    "nefrites. Para melhor compreensão do problema, consideremos as definições de\n",
    "ambas as doenças dadas por médicos. A inflamação aguda da bexiga urinária é caracterizada\n",
    "pela ocorrência repentina de dores na região do abdômen e a micção na forma de\n",
    "pressão constante de urina, dores de micção e às vezes falta de retenção de urina.\n",
    "A temperatura do corpo está subindo, mas na maioria das vezes não passa dos 38ºC. O excretado\n",
    "a urina é turva e às vezes com sangue. Com o tratamento adequado, os sintomas geralmente diminuem\n",
    "dentro de alguns dias. No entanto, há tendência para retornos. Em pessoas com quadro agudo\n",
    "inflamação da bexiga urinária, devemos esperar que a doença se transforme em\n",
    "forma prolongada.</p>\n",
    "\n",
    "<p align='justify'>A nefrite aguda da origem da pelve renal ocorre consideravelmente mais frequentemente em mulheres do que em homens. Começa com febre súbita, que atinge e às vezes ultrapassa os 40ºC. A febre\n",
    "é acompanhada por calafrios e dores lombares em um ou ambos os lados, que às vezes são muito\n",
    "Forte. Os sintomas de inflamação aguda da bexiga urinária aparecem com muita frequência. Completamente não\n",
    "raramente há náuseas e vômitos e dores disseminadas por todo o abdômen.</p>\n",
    "\n",
    "<p align='justify'>Os dados foram criados por um especialista médico como um conjunto de dados para testar o sistema especialista, que irá realizar o diagnóstico presuntivo de duas doenças do sistema urinário. A base para\n",
    "a detecção de regras foi a Teoria dos Conjuntos Brutos. Cada instância representa um paciente potencial.</p>\n",
    "\n",
    "<p align='justify'>Os dados estão em um arquivo ASCII. Os atributos são separados por TAB.\n",
    "Cada linha do arquivo de dados começa com um dígito que informa a temperatura do paciente.</p>\n",
    "\n",
    "<p><b>-- Atributos:</b></p>\n",
    "<p>Por exemplo, '35.9 FALSE FALSE TRUE TRUE TRUE TRUE FALSE'</p>\n",
    "<p>Onde:</p>\n",
    "<ul>\n",
    "<li>'35.9' Temperature of patient</li>\n",
    "<li>'FALSE' Occurrence of nausea</li>\n",
    "<li>'FALSE' Lumbar pain</li>\n",
    "<li>'TRUE' Urine pushing (continuous need for urination)</li>\n",
    "<li>'TRUE' Micturition pains</li>\n",
    "<li>'TRUE' Burning of urethra, itch, swelling of urethra outlet</li>\n",
    "<li>'IUB' decision: Inflammation of urinary bladder</li>\n",
    "</ul>\n",
    "\n",
    "<p><b>Legenda</b></p>\n",
    "<ol>\n",
    "<li>IUB: Inflamação da bexiga urinária</li>\n",
    "<li>NRP: Nefrite de origem da pelve renal</li>\n",
    "<li>IUB_NRP: Ambas inflamações</li>\n",
    "<li>HEALTHY: Saudável</li>\n",
    "</ol>"
   ]
  },
  {
   "cell_type": "code",
   "execution_count": 14,
   "metadata": {},
   "outputs": [],
   "source": [
    "import pandas as pd\n",
    "names = ['Temperature_of_patient', 'Occurrence_of_nausea',\n",
    "         'Lumbar_pain', 'Urine_pushing', 'Micturition_pains', 'Burning_of_urethra',\n",
    "         'Decision']\n",
    "df = pd.read_csv('diagnosis.csv', names=names)"
   ]
  },
  {
   "cell_type": "code",
   "execution_count": 15,
   "metadata": {
    "tags": []
   },
   "outputs": [
    {
     "name": "stdout",
     "output_type": "stream",
     "text": [
      "Linhas: 120, Colunas: 7\n"
     ]
    }
   ],
   "source": [
    "print(\"Linhas: %d, Colunas: %d\" % (len(df), len(df.columns)))"
   ]
  },
  {
   "cell_type": "code",
   "execution_count": 16,
   "metadata": {},
   "outputs": [
    {
     "data": {
      "text/html": [
       "<div>\n",
       "<style scoped>\n",
       "    .dataframe tbody tr th:only-of-type {\n",
       "        vertical-align: middle;\n",
       "    }\n",
       "\n",
       "    .dataframe tbody tr th {\n",
       "        vertical-align: top;\n",
       "    }\n",
       "\n",
       "    .dataframe thead th {\n",
       "        text-align: right;\n",
       "    }\n",
       "</style>\n",
       "<table border=\"1\" class=\"dataframe\">\n",
       "  <thead>\n",
       "    <tr style=\"text-align: right;\">\n",
       "      <th></th>\n",
       "      <th>Temperature_of_patient</th>\n",
       "      <th>Occurrence_of_nausea</th>\n",
       "      <th>Lumbar_pain</th>\n",
       "      <th>Urine_pushing</th>\n",
       "      <th>Micturition_pains</th>\n",
       "      <th>Burning_of_urethra</th>\n",
       "      <th>Decision</th>\n",
       "    </tr>\n",
       "  </thead>\n",
       "  <tbody>\n",
       "    <tr>\n",
       "      <th>0</th>\n",
       "      <td>35.5</td>\n",
       "      <td>0</td>\n",
       "      <td>1</td>\n",
       "      <td>0</td>\n",
       "      <td>0</td>\n",
       "      <td>0</td>\n",
       "      <td>HEALTHY</td>\n",
       "    </tr>\n",
       "    <tr>\n",
       "      <th>1</th>\n",
       "      <td>35.9</td>\n",
       "      <td>0</td>\n",
       "      <td>0</td>\n",
       "      <td>1</td>\n",
       "      <td>1</td>\n",
       "      <td>1</td>\n",
       "      <td>IUB</td>\n",
       "    </tr>\n",
       "    <tr>\n",
       "      <th>2</th>\n",
       "      <td>35.9</td>\n",
       "      <td>0</td>\n",
       "      <td>1</td>\n",
       "      <td>0</td>\n",
       "      <td>0</td>\n",
       "      <td>0</td>\n",
       "      <td>HEALTHY</td>\n",
       "    </tr>\n",
       "    <tr>\n",
       "      <th>3</th>\n",
       "      <td>36.0</td>\n",
       "      <td>0</td>\n",
       "      <td>0</td>\n",
       "      <td>1</td>\n",
       "      <td>1</td>\n",
       "      <td>1</td>\n",
       "      <td>IUB</td>\n",
       "    </tr>\n",
       "    <tr>\n",
       "      <th>4</th>\n",
       "      <td>36.0</td>\n",
       "      <td>0</td>\n",
       "      <td>1</td>\n",
       "      <td>0</td>\n",
       "      <td>0</td>\n",
       "      <td>0</td>\n",
       "      <td>HEALTHY</td>\n",
       "    </tr>\n",
       "  </tbody>\n",
       "</table>\n",
       "</div>"
      ],
      "text/plain": [
       "   Temperature_of_patient  Occurrence_of_nausea  Lumbar_pain  Urine_pushing  \\\n",
       "0                    35.5                     0            1              0   \n",
       "1                    35.9                     0            0              1   \n",
       "2                    35.9                     0            1              0   \n",
       "3                    36.0                     0            0              1   \n",
       "4                    36.0                     0            1              0   \n",
       "\n",
       "   Micturition_pains  Burning_of_urethra Decision  \n",
       "0                  0                   0  HEALTHY  \n",
       "1                  1                   1      IUB  \n",
       "2                  0                   0  HEALTHY  \n",
       "3                  1                   1      IUB  \n",
       "4                  0                   0  HEALTHY  "
      ]
     },
     "execution_count": 16,
     "metadata": {},
     "output_type": "execute_result"
    }
   ],
   "source": [
    "df.head()"
   ]
  },
  {
   "cell_type": "code",
   "execution_count": 17,
   "metadata": {},
   "outputs": [
    {
     "data": {
      "text/plain": [
       "IUB        40\n",
       "NRP        31\n",
       "HEALTHY    30\n",
       "IUB_NRP    19\n",
       "Name: Decision, dtype: int64"
      ]
     },
     "execution_count": 17,
     "metadata": {},
     "output_type": "execute_result"
    }
   ],
   "source": [
    "df['Decision'].value_counts()"
   ]
  },
  {
   "cell_type": "code",
   "execution_count": 18,
   "metadata": {},
   "outputs": [
    {
     "data": {
      "image/png": "[encoded data removed]",
      "text/plain": [
       "<Figure size 432x288 with 1 Axes>"
      ]
     },
     "metadata": {},
     "output_type": "display_data"
    }
   ],
   "source": [
    "%matplotlib inline\n",
    "import matplotlib.pyplot as plt\n",
    "\n",
    "df['Decision'].value_counts().plot(kind='pie')\n",
    "plt.axis('equal');"
   ]
  },
  {
   "cell_type": "markdown",
   "metadata": {},
   "source": [
    "<h3>Treinamento<h3>"
   ]
  },
  {
   "cell_type": "code",
   "execution_count": 19,
   "metadata": {
    "tags": []
   },
   "outputs": [
    {
     "name": "stdout",
     "output_type": "stream",
     "text": [
      "Index(['Burning_of_urethra', 'Lumbar_pain', 'Micturition_pains',\n",
      "       'Occurrence_of_nausea', 'Temperature_of_patient', 'Urine_pushing'],\n",
      "      dtype='object')\n"
     ]
    }
   ],
   "source": [
    "# Preparando os dados\n",
    "features = df.columns.difference(['Decision'])\n",
    "\n",
    "X = df[features].values\n",
    "y = df['Decision'].values\n",
    "\n",
    "print(features)"
   ]
  },
  {
   "cell_type": "markdown",
   "metadata": {},
   "source": [
    "<h3>Árvore Decisão<h3>"
   ]
  },
  {
   "cell_type": "code",
   "execution_count": 31,
   "metadata": {},
   "outputs": [
    {
     "data": {
      "text/plain": [
       "DecisionTreeClassifier(max_depth=3, random_state=1986)"
      ]
     },
     "execution_count": 31,
     "metadata": {},
     "output_type": "execute_result"
    }
   ],
   "source": [
    "from sklearn.tree import DecisionTreeClassifier\n",
    "\n",
    "classifier_dt = DecisionTreeClassifier(random_state=1986,\n",
    "                           criterion='gini',\n",
    "                           max_depth=3)\n",
    "classifier_dt.fit(X, y)"
   ]
  },
  {
   "cell_type": "markdown",
   "metadata": {},
   "source": [
    "<h3>Amostras de previsão<h3>"
   ]
  },
  {
   "cell_type": "code",
   "execution_count": 32,
   "metadata": {},
   "outputs": [
    {
     "data": {
      "text/plain": [
       "array(['IUB', 'IUB', 'HEALTHY', 'HEALTHY'], dtype=object)"
      ]
     },
     "execution_count": 32,
     "metadata": {},
     "output_type": "execute_result"
    }
   ],
   "source": [
    "# Exemplos que serao utilizados para validar o modelo\n",
    "sample1 = [36.3,0,0,1,1,1]         # IUB\n",
    "sample2 = [41.5,0,1,1,0,1]         # NRP\n",
    "sample3 = [41.3,1,1,1,1,0]         # IUB_NRP\n",
    "sample4 = [41.5,0,0,0,0,0]         # HEALTHY\n",
    "\n",
    "classifier_dt.predict([sample1, sample2, sample3, sample4])  # Predizendo o tipo da doença"
   ]
  },
  {
   "cell_type": "markdown",
   "metadata": {},
   "source": [
    "<p>Observa-se que ao testar o modelo Decision Tree a taxa de acerto foi de 50%, levando em consideração a baixa quantidade de amostras</p>"
   ]
  },
  {
   "cell_type": "markdown",
   "metadata": {},
   "source": [
    "<h3>Cross Validation<h3>"
   ]
  },
  {
   "cell_type": "code",
   "execution_count": 22,
   "metadata": {},
   "outputs": [
    {
     "name": "stdout",
     "output_type": "stream",
     "text": [
      "0.9583333333333334\n"
     ]
    }
   ],
   "source": [
    "from sklearn.model_selection import cross_val_score\n",
    "\n",
    "scores_dt = cross_val_score(classifier_dt, X, y, scoring='accuracy', cv=5)\n",
    "print(scores_dt.mean())"
   ]
  },
  {
   "cell_type": "markdown",
   "metadata": {},
   "source": [
    "<p>Accuracy: eficiência do modelo</p>"
   ]
  },
  {
   "cell_type": "markdown",
   "metadata": {},
   "source": [
    "<h3>Random Forest<h3>"
   ]
  },
  {
   "cell_type": "code",
   "execution_count": 23,
   "metadata": {},
   "outputs": [
    {
     "name": "stdout",
     "output_type": "stream",
     "text": [
      "0.9666666666666668\n"
     ]
    }
   ],
   "source": [
    "from sklearn.ensemble import RandomForestClassifier\n",
    "\n",
    "classifier_rf = RandomForestClassifier(random_state=1986, n_estimators=50, max_depth=5, n_jobs=-1)\n",
    "classifier_rf.fit(X, y)\n",
    "\n",
    "scores_rf = cross_val_score(classifier_rf, X, y, scoring='accuracy', cv=5)\n",
    "print(scores_rf.mean())"
   ]
  },
  {
   "cell_type": "markdown",
   "metadata": {},
   "source": [
    "<h3>Feature Importance<h3>"
   ]
  },
  {
   "cell_type": "code",
   "execution_count": 24,
   "metadata": {},
   "outputs": [
    {
     "name": "stdout",
     "output_type": "stream",
     "text": [
      "Urine_pushing: 26.019343%\n",
      "Temperature_of_patient: 23.025551%\n",
      "Lumbar_pain: 20.986581%\n",
      "Micturition_pains: 13.347461%\n",
      "Occurrence_of_nausea: 9.496491%\n",
      "Burning_of_urethra: 7.124573%\n"
     ]
    }
   ],
   "source": [
    "classifier_rf.fit(X, y)  # Treinando com tudo\n",
    "\n",
    "features_importance = zip(classifier_rf.feature_importances_, features)\n",
    "for importance, feature in sorted(features_importance, reverse=True):\n",
    "    print(\"%s: %f%%\" % (feature, importance*100))"
   ]
  },
  {
   "cell_type": "markdown",
   "metadata": {},
   "source": [
    "<h3>Grid Search CV<h3>"
   ]
  },
  {
   "cell_type": "code",
   "execution_count": 25,
   "metadata": {},
   "outputs": [
    {
     "name": "stdout",
     "output_type": "stream",
     "text": [
      "1.0\n",
      "{'bootstrap': False, 'criterion': 'entropy', 'max_depth': 3, 'max_features': 0.1, 'n_estimators': 25}\n"
     ]
    }
   ],
   "source": [
    "from sklearn.model_selection import GridSearchCV\n",
    "\n",
    "param_grid = {\n",
    "            \"criterion\": ['entropy', 'gini'],\n",
    "            \"n_estimators\": [25, 50, 75],\n",
    "            \"bootstrap\": [False, True],\n",
    "            \"max_depth\": [3, 5, 10],\n",
    "            \"max_features\": ['auto', 0.1, 0.2, 0.3]\n",
    "}\n",
    "grid_search = GridSearchCV(classifier_rf, param_grid, scoring=\"accuracy\")\n",
    "grid_search.fit(X, y)\n",
    "\n",
    "classifier_rf = grid_search.best_estimator_  # Pegando o melhor classificador\n",
    "\n",
    "print(grid_search.best_score_)\n",
    "print(grid_search.best_params_)"
   ]
  },
  {
   "cell_type": "markdown",
   "metadata": {},
   "source": [
    "<h3>Previsão com Random Forest<h3> \n",
    "<p>Após refinamento de parâmetros com Grid Search CV</p>"
   ]
  },
  {
   "cell_type": "code",
   "execution_count": 33,
   "metadata": {},
   "outputs": [
    {
     "name": "stdout",
     "output_type": "stream",
     "text": [
      "1.0\n"
     ]
    },
    {
     "data": {
      "text/plain": [
       "array(['IUB', 'IUB', 'IUB_NRP', 'HEALTHY'], dtype=object)"
      ]
     },
     "execution_count": 33,
     "metadata": {},
     "output_type": "execute_result"
    }
   ],
   "source": [
    "classifier_rf.fit(X, y)\n",
    "\n",
    "scores_rf = cross_val_score(classifier_rf, X, y, scoring='accuracy', cv=5)\n",
    "print(scores_rf.mean())\n",
    "\n",
    "# Exemplos que serao utilizados para validar o modelo\n",
    "sample1 = [36.3,0,0,1,1,1]         # IUB\n",
    "sample2 = [41.5,0,1,1,0,1]         # NRP\n",
    "sample3 = [41.3,1,1,1,1,0]         # IUB_NRP\n",
    "sample4 = [41.5,0,0,0,0,0]         # HEALTHY\n",
    "\n",
    "classifier_rf.predict([sample1, sample2, sample3, sample4])  # Predizendo o tipo da doença"
   ]
  },
  {
   "cell_type": "code",
   "execution_count": null,
   "metadata": {},
   "outputs": [],
   "source": []
  }
 ],
 "metadata": {
  "kernelspec": {
   "display_name": "Python 3.8.2 64-bit",
   "language": "python",
   "name": "python38264bit9eee360a230945fd8dd5c76b31539d8e"
  },
  "language_info": {
   "codemirror_mode": {
    "name": "ipython",
    "version": 3
   },
   "file_extension": ".py",
   "mimetype": "text/x-python",
   "name": "python",
   "nbconvert_exporter": "python",
   "pygments_lexer": "ipython3",
   "version": "3.8.2"
  }
 },
 "nbformat": 4,
 "nbformat_minor": 2
}
